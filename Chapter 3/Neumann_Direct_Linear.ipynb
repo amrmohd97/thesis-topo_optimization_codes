{
 "cells": [
  {
   "cell_type": "markdown",
   "id": "ded2fef9-577a-4302-a5a9-549b4d9e2c53",
   "metadata": {},
   "source": [
    "For the problem -u''+ alpha_omega * u = f_omega with Neumann BC\n",
    "\n",
    "alpha1/2 assumed constants\n",
    "Steps:\n",
    "0 - Solve the system with destination psi to set gfud\n",
    "1- Solve Weak PDE linear system >>>>>> u\n",
    "2- Solve for adjoint p , EQU 4.8 using u >>>>>>>>>> p\n",
    "\n",
    "3- Solve for 1st material derivative, EQU 4.5 using u >>>>> u_xo (NxN)\n",
    "4- Solve for 2nd Adjoint q, EQU 4.20,using u_xo >>>>> q_xo (NxN) \n",
    "\n",
    "5- Solve for mat_der of adjoint, EQU 4.9 using u_xo,p >>>>>>>>>>p_xo NOT NEEDED\n",
    "\n",
    "\n",
    "ORR assemble int(u_xo,u_yo)"
   ]
  },
  {
   "cell_type": "code",
   "execution_count": 9,
   "id": "d309cba0-75ea-4353-9e1f-c73cd09ba905",
   "metadata": {},
   "outputs": [
    {
     "name": "stdout",
     "output_type": "stream",
     "text": [
      "Degrees of freedom = 1942\n"
     ]
    }
   ],
   "source": [
    "import numpy as np\n",
    "import netgen.geom2d as geom2d\n",
    "from ngsolve import *\n",
    "from ngsolve.webgui import Draw\n",
    "from netgen.geom2d import SplineGeometry  \n",
    "from ngsolve.internal import *\n",
    "from interpolations import InterpolateLevelSetToElems # function which interpolates a levelset function\n",
    "\n",
    "myMAXH = 0.1\n",
    "EPS = myMAXH * 1e-6      #variable defining when a point is on the interface and when not\n",
    "\n",
    "geo = SplineGeometry()\n",
    "\n",
    "R = 2\n",
    "\n",
    "## add a rectangle\n",
    "geo.AddRectangle(p1=(-R,-R),\n",
    "                 p2=(R,R),\n",
    "                 bc=\"rectangle\",\n",
    "                 leftdomain=1,\n",
    "                 rightdomain=0)\n",
    "geo.SetMaterial (1, \"outer\") # give the domain the name \"outer\"\n",
    "mesh = Mesh(geo.GenerateMesh(maxh=myMAXH)) # generate ngsolve mesh\n",
    "fes_state = H1(mesh, order=1)\n",
    "fes_adj = H1(mesh, order=1)\n",
    "fes_level = H1(mesh, order=1)\n",
    "\n",
    "pwc = L2(mesh)   #piecewise constant space\n",
    "\n",
    "N = fes_state.ndof\n",
    "\n",
    "gfud = GridFunction(fes_state)\n",
    "gfu = GridFunction(fes_state)\n",
    "\n",
    "gfu_xo = GridFunction(fes_state)\n",
    "gfu_yo = GridFunction(fes_state)\n",
    "gfu_xoyo = GridFunction(fes_state)\n",
    "\n",
    "gfp = GridFunction(fes_adj)\n",
    "gfp_xo = GridFunction(fes_adj)\n",
    "gfq_xo =GridFunction(fes_adj)\n",
    "\n",
    "\n",
    "psi = GridFunction(fes_level)\n",
    "psides = GridFunction(fes_level)\n",
    "psinew = GridFunction(fes_level)\n",
    "\n",
    "\n",
    "alpha1 = 2\n",
    "alpha2 = 7\n",
    "f1=10\n",
    "f2=1\n",
    "f_rhs = GridFunction(pwc)\n",
    "alpha = GridFunction(pwc)\n",
    "\n",
    "print(\"Degrees of freedom =\",N)"
   ]
  },
  {
   "cell_type": "code",
   "execution_count": 10,
   "id": "f6a89e5f-b4fe-4b71-9e30-c09f15c9da87",
   "metadata": {},
   "outputs": [
    {
     "data": {
      "application/vnd.jupyter.widget-view+json": {
       "model_id": "33f8474b4c3e4e53982d7711275fda13",
       "version_major": 2,
       "version_minor": 0
      },
      "text/plain": [
       "WebGuiWidget(layout=Layout(height='50vh', width='100%'), value={'gui_settings': {}, 'ngsolve_version': '6.2.24…"
      ]
     },
     "metadata": {},
     "output_type": "display_data"
    },
    {
     "data": {
      "text/plain": [
       "BaseWebGuiScene"
      ]
     },
     "execution_count": 10,
     "metadata": {},
     "output_type": "execute_result"
    }
   ],
   "source": [
    "\n",
    "#STEP 0\n",
    "#Filling gfud:\n",
    "a = 4.0/5.0\n",
    "b = 2\n",
    "f = CoefficientFunction( 0.1*( (sqrt((x - a)**2 + b * y**2) - 1) \\\n",
    "                * (sqrt((x + a)**2 + b * y**2) - 1) \\\n",
    "                * (sqrt(b * x**2 + (y - a)**2) - 1) \\\n",
    "                * (sqrt(b * x**2 + (y + a)**2) - 1) - 0.001) )\n",
    "\n",
    "# Setting the piece wise functions according to destination domain\n",
    "psides.Set(f)\n",
    "InterpolateLevelSetToElems(psides, f1, f2, f_rhs, mesh, EPS)\n",
    "InterpolateLevelSetToElems(psides, alpha1, alpha2, alpha, mesh, EPS)\n",
    "\n",
    "## test and trial functions\n",
    "u, v = fes_state.TnT()\n",
    "\n",
    "\n",
    "B = BilinearForm(fes_state)\n",
    "B += grad(u) * grad(v) * dx\n",
    "B += alpha* u * v * dx\n",
    "B.Assemble()\n",
    "\n",
    "L = LinearForm(fes_state)\n",
    "L += f_rhs * v *dx\n",
    "L.Assemble()\n",
    "inv = B.mat.Inverse( inverse=\"sparsecholesky\") # inverse of bilinear form\n",
    "\n",
    "gfud.vec.data = inv*L.vec\n",
    "Draw(gfud)\n"
   ]
  },
  {
   "cell_type": "code",
   "execution_count": 11,
   "id": "7d314dbc-7d36-4d50-bba9-793605abbdc1",
   "metadata": {},
   "outputs": [
    {
     "data": {
      "application/vnd.jupyter.widget-view+json": {
       "model_id": "82b8ca47ec064ec8a322c7a38f1689c1",
       "version_major": 2,
       "version_minor": 0
      },
      "text/plain": [
       "WebGuiWidget(layout=Layout(height='50vh', width='100%'), value={'gui_settings': {}, 'ngsolve_version': '6.2.24…"
      ]
     },
     "metadata": {},
     "output_type": "display_data"
    }
   ],
   "source": [
    "#STEP1 Solving for u\n",
    "\n",
    "psi.Set(-1) # Initial domain is the holdall\n",
    "InterpolateLevelSetToElems(psi, f1, f2, f_rhs, mesh, EPS)\n",
    "InterpolateLevelSetToElems(psi, alpha1, alpha2, alpha, mesh, EPS)\n",
    "\n",
    "scene_u=Draw(gfu)\n",
    "\n",
    "\n",
    "def SolvePDE(adjoint=False):\n",
    "\n",
    "    B.Assemble()\n",
    "    L.Assemble()\n",
    "\n",
    "    inv_state = B.mat.Inverse(inverse=\"sparsecholesky\")\n",
    "\n",
    "    # solve state equation\n",
    "    gfu.vec.data = inv_state*L.vec\n",
    "    \n",
    "    scene_u.Redraw()\n",
    "    if adjoint == True:\n",
    "        # solve adjoint state equatoin\n",
    "        duCost.Assemble()\n",
    "        B_adj.Assemble()\n",
    "        inv_adj = B_adj.mat.Inverse(inverse=\"sparsecholesky\")\n",
    "        gfp.vec.data = -inv_adj * duCost.vec\n",
    "\n",
    "SolvePDE() #The correct solution for the Neumann conditions is constant everywhere (=f1/alpha1)"
   ]
  },
  {
   "cell_type": "code",
   "execution_count": 12,
   "id": "5c9f2d12-8f51-4bea-979e-f11dac7c3b2e",
   "metadata": {},
   "outputs": [
    {
     "data": {
      "application/vnd.jupyter.widget-view+json": {
       "model_id": "dbcfe12e621a456198693a33a0757917",
       "version_major": 2,
       "version_minor": 0
      },
      "text/plain": [
       "WebGuiWidget(layout=Layout(height='50vh', width='100%'), value={'gui_settings': {}, 'ngsolve_version': '6.2.24…"
      ]
     },
     "metadata": {},
     "output_type": "display_data"
    },
    {
     "data": {
      "text/plain": [
       "BaseWebGuiScene"
      ]
     },
     "execution_count": 12,
     "metadata": {},
     "output_type": "execute_result"
    }
   ],
   "source": [
    "#STEP2 EQU 4.8\n",
    "p,q =fes_adj.TnT()\n",
    "B_adj = BilinearForm(fes_state)\n",
    "B_adj += grad(p) * grad(q) * dx\n",
    "B_adj += alpha* p * q * dx\n",
    "def Cost(u):\n",
    "    return (u - gfud)**2*dx\n",
    "\n",
    "duCost = LinearForm(fes_adj)\n",
    "duCost += 2*(gfu-gfud) * q * dx\n",
    "SolvePDE(True)\n",
    "Draw(gfp)"
   ]
  },
  {
   "cell_type": "code",
   "execution_count": 13,
   "id": "c5ddab6a-fbd4-4c83-a915-4f53301fdaa3",
   "metadata": {},
   "outputs": [
    {
     "data": {
      "application/vnd.jupyter.widget-view+json": {
       "model_id": "eccc25e4a26c464485a0e942f8568ec1",
       "version_major": 2,
       "version_minor": 0
      },
      "text/plain": [
       "WebGuiWidget(layout=Layout(height='50vh', width='100%'), value={'gui_settings': {}, 'ngsolve_version': '6.2.24…"
      ]
     },
     "metadata": {},
     "output_type": "display_data"
    },
    {
     "data": {
      "text/plain": [
       "BaseWebGuiScene"
      ]
     },
     "execution_count": 13,
     "metadata": {},
     "output_type": "execute_result"
    }
   ],
   "source": [
    "#STEPs3,4 _EQU4.5 & 4.20 \n",
    "gfud_cf = CoefficientFunction(gfud)\n",
    "gfu_cf = CoefficientFunction(gfu)\n",
    "#p, q = fes_adj.TnT()\n",
    "u_x_all = np.zeros((N, N))  # Initialize an NxN matrix\n",
    "L3 = GridFunction(fes_state)\n",
    "\n",
    "u_x,v3 = fes_state.TnT()\n",
    "B3 = BilinearForm(fes_state)\n",
    "B3 += grad(u_x) * grad(v3) * dx\n",
    "B3 += alpha* u_x * v3 * dx\n",
    "\n",
    "#for EQU 4.20\n",
    "\n",
    "q_x_all = np.zeros((N, N))  # Initialize an NxN matrix\n",
    "\n",
    "q_x,q4 =fes_adj.TnT()\n",
    "B4 = BilinearForm(fes_state)\n",
    "B4 += grad(q_x) * grad(q4) * dx\n",
    "B4 += alpha* q_x * q4 * dx\n",
    "#RHS has two terms , a vector matrix multiplication and a vector\n",
    "\n",
    "\n",
    "phi1,phi2 = fes_adj.TnT()\n",
    "RHS4= BilinearForm(fes_state)\n",
    "RHS4+= -2*phi1*phi2*dx\n",
    "RHS4.Assemble()\n",
    "RHS4_dense = RHS4.mat.ToDense().NumPy() #NumpyArray\n",
    "D2J_1st=np.zeros((N,N))\n",
    "DJ = np.zeros(N)\n",
    "\n",
    "for i in range(N):\n",
    "    InterpolateLevelSetToElems(psi, f1, f2, f_rhs, mesh, EPS)\n",
    "    InterpolateLevelSetToElems(psi, alpha1, alpha2, alpha, mesh, EPS)\n",
    "    B3.Assemble()\n",
    "    B4.Assemble()\n",
    "\n",
    "    L3.Set(0)\n",
    "    \n",
    "    sign_x_i = 1 if psi.vec[i] < 0 else -1 \n",
    "    \n",
    "    L3.vec[i] = -sign_x_i * (alpha1 - alpha2) * gfu.vec[i] * 1+sign_x_i * (f1 - f2) \n",
    "    \n",
    "    inv3 = B3.mat.Inverse(inverse=\"sparsecholesky\")\n",
    "\n",
    "    gfu_xo.vec.data = inv3 * L3.vec\n",
    "\n",
    "    u_x_all[:,i] = gfu_xo.vec\n",
    "    u_x_cf = CoefficientFunction(gfu_xo) # coefficent function instance of current u_x\n",
    "    mycf = 2 * (gfu_cf - gfud_cf) * u_x_cf #Coefficient function for DJs RHS\n",
    "    DJ[i] = Integrate(mycf, mesh)\n",
    "\n",
    "    \n",
    "    #RHS of 4.20 is the mass matrix multiplied by u_xo vector\n",
    "    RHS4_vec = np.zeros(N)\n",
    "    RHS4_vec = u_x_all[:,i]\n",
    "    RHS4_total =RHS4_dense @ RHS4_vec #Mass matrix multiply U_xi\n",
    "\n",
    "    inv4 = B4.mat.Inverse(inverse=\"sparsecholesky\")\n",
    "    gfq_xo.vec.data = inv4*RHS4_total # solve the system\n",
    "\n",
    "    q_x_all[:,i] = gfq_xo.vec\n",
    "            \n",
    "    for j in range(N):\n",
    "        sign_x_j = 1 if psi.vec[j] < 0 else -1 \n",
    "        D2J_1st[i,j]=sign_x_j*(alpha1-alpha2)*gfu.vec[j]*gfq_xo.vec[j]\n",
    "\n",
    "gdj= GridFunction(fes_state)\n",
    "gdj.vec.data = DJ\n",
    "Draw(gdj)"
   ]
  },
  {
   "cell_type": "code",
   "execution_count": 6,
   "id": "e0234178-7967-41a4-9de8-062a67b6d039",
   "metadata": {},
   "outputs": [
    {
     "data": {
      "application/vnd.jupyter.widget-view+json": {
       "model_id": "8b00227e100743099fc354279a179376",
       "version_major": 2,
       "version_minor": 0
      },
      "text/plain": [
       "WebGuiWidget(layout=Layout(height='50vh', width='100%'), value={'gui_settings': {}, 'ngsolve_version': '6.2.24…"
      ]
     },
     "metadata": {},
     "output_type": "display_data"
    },
    {
     "data": {
      "text/plain": [
       "BaseWebGuiScene"
      ]
     },
     "execution_count": 6,
     "metadata": {},
     "output_type": "execute_result"
    }
   ],
   "source": [
    "# gfu_xi=GridFunction(fes_state)\n",
    "# gfq_xi=GridFunction(fes_state)\n",
    "# gfu_xi.vec.data=u_x_all[:,25]\n",
    "# gfq_xi.vec.data=q_x_all[:,20]\n",
    "#Draw(gfu_xi)\n",
    "#Draw(gfq_xi)\n",
    "gdj= GridFunction(fes_state)\n",
    "gdj.vec.data = DJ\n",
    "Draw(gdj)\n"
   ]
  },
  {
   "cell_type": "code",
   "execution_count": 14,
   "id": "ed4ecef2-c2c1-4875-ba6e-533d222c1b8a",
   "metadata": {},
   "outputs": [
    {
     "data": {
      "application/vnd.jupyter.widget-view+json": {
       "model_id": "cd5d6cfd105345e2bf20404685de5460",
       "version_major": 2,
       "version_minor": 0
      },
      "text/plain": [
       "WebGuiWidget(layout=Layout(height='50vh', width='100%'), value={'gui_settings': {}, 'ngsolve_version': '6.2.24…"
      ]
     },
     "metadata": {},
     "output_type": "display_data"
    },
    {
     "data": {
      "text/plain": [
       "BaseWebGuiScene"
      ]
     },
     "execution_count": 14,
     "metadata": {},
     "output_type": "execute_result"
    }
   ],
   "source": [
    "X = np.linalg.solve(D2J_1st, -DJ)\n",
    "direction = GridFunction(fes_state)\n",
    "direction.vec.data = X\n",
    "normDirection = sqrt(Integrate(direction**2*dx, mesh))\n",
    "direction.vec.data =( 1/normDirection )* direction.vec\n",
    "Draw(direction)"
   ]
  },
  {
   "cell_type": "markdown",
   "id": "c361099a-7f5b-4592-918f-451991a45b3d",
   "metadata": {},
   "source": [
    "for i in range(N):\n",
    "........\n",
    "    for j in range(N):\n",
    "        sign_x_j = 1 if psi.vec[j] < 0 else -1 \n",
    "        D2J_1st[i,j]=sign_x_j*(alpha1-alpha2)*gfu.vec[j]*gfq_xo.vec[j]"
   ]
  },
  {
   "cell_type": "code",
   "execution_count": 9,
   "id": "caf11654-8656-4b7a-877e-665e4e1e6b80",
   "metadata": {},
   "outputs": [
    {
     "data": {
      "application/vnd.jupyter.widget-view+json": {
       "model_id": "7f21319198ad4320bd640d5622bbf757",
       "version_major": 2,
       "version_minor": 0
      },
      "text/plain": [
       "WebGuiWidget(layout=Layout(height='50vh', width='100%'), value={'gui_settings': {}, 'ngsolve_version': '6.2.24…"
      ]
     },
     "metadata": {},
     "output_type": "display_data"
    },
    {
     "data": {
      "text/plain": [
       "BaseWebGuiScene"
      ]
     },
     "execution_count": 9,
     "metadata": {},
     "output_type": "execute_result"
    }
   ],
   "source": [
    "\n",
    "D2J = np.zeros((N, N))\n",
    "\n",
    "for i in range(N):  # yo\n",
    "    sign_y_i = 1 if psi.vec[i] < 0 else -1\n",
    "    for j in range(N):  # xo\n",
    "        sign_x_j = 1 if psi.vec[j] < 0 else -1 \n",
    "        D2J[i, j] = sign_x_j * (alpha1 - alpha2) * q_x_all[i, j] * gfu.vec[j] # Correct Term\n",
    "        D2J[i, j] += sign_x_j * (alpha1 - alpha2) * u_x_all[i, j] * gfp.vec[j]\n",
    "        D2J[i, j] -= sign_y_i * (alpha1 - alpha2) * u_x_all[j, i] * gfp.vec[i]\n",
    "\n",
    "XX = np.linalg.solve(D2J, -DJ)\n",
    "\n",
    "direction2 = GridFunction(fes_state)\n",
    "direction2.vec.data = XX\n",
    "\n",
    "Draw(direction2)"
   ]
  },
  {
   "cell_type": "code",
   "execution_count": null,
   "id": "97083734-19da-4585-b99b-53de9cafcccd",
   "metadata": {},
   "outputs": [],
   "source": []
  },
  {
   "cell_type": "code",
   "execution_count": null,
   "id": "5ae15240-0fca-4304-9b55-f7fb4fcc09e8",
   "metadata": {},
   "outputs": [],
   "source": [
    "norm_direction = sqrt(Integrate(direction**2*dx, mesh)) # L2 norm of TD_node\n",
    "norm_direction2 = sqrt(Integrate(direction2**2*dx, mesh)) # L2 norm of TD_node\n",
    "direction.vec.data = 1/norm_direction * direction.vec\n",
    "direction2.vec.data = 1/norm_direction2 * direction2.vec\n",
    "#Draw(IfPos(direction,0,1),mesh)\n",
    "Draw(direction2)\n"
   ]
  },
  {
   "cell_type": "code",
   "execution_count": null,
   "id": "713ce1a5-af35-4154-8678-ad590552e0d8",
   "metadata": {},
   "outputs": [],
   "source": [
    "\n"
   ]
  },
  {
   "cell_type": "code",
   "execution_count": null,
   "id": "8d22dfb5-fefa-45de-ab82-ddb32131bfa1",
   "metadata": {},
   "outputs": [],
   "source": []
  },
  {
   "cell_type": "code",
   "execution_count": null,
   "id": "d0f2c990-4eda-4be8-8885-f4c67042b7fd",
   "metadata": {},
   "outputs": [],
   "source": []
  },
  {
   "cell_type": "code",
   "execution_count": null,
   "id": "10354565-7642-4c16-b602-5db7560d40d0",
   "metadata": {},
   "outputs": [],
   "source": []
  },
  {
   "cell_type": "code",
   "execution_count": null,
   "id": "f7adef98-9701-4f5d-a0e0-bd2ef247dc02",
   "metadata": {},
   "outputs": [],
   "source": []
  },
  {
   "cell_type": "code",
   "execution_count": null,
   "id": "b74a2e2b-d55e-4506-9b84-4fc13887a34f",
   "metadata": {},
   "outputs": [],
   "source": []
  },
  {
   "cell_type": "code",
   "execution_count": null,
   "id": "ea013af4-dda5-4bf9-b451-8318fed0abc6",
   "metadata": {},
   "outputs": [],
   "source": []
  }
 ],
 "metadata": {
  "kernelspec": {
   "display_name": "Python 3 (ipykernel)",
   "language": "python",
   "name": "python3"
  },
  "language_info": {
   "codemirror_mode": {
    "name": "ipython",
    "version": 3
   },
   "file_extension": ".py",
   "mimetype": "text/x-python",
   "name": "python",
   "nbconvert_exporter": "python",
   "pygments_lexer": "ipython3",
   "version": "3.10.12"
  }
 },
 "nbformat": 4,
 "nbformat_minor": 5
}
